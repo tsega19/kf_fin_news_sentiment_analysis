{
  "nbformat": 4,
  "nbformat_minor": 0,
  "metadata": {
    "colab": {
      "private_outputs": true,
      "provenance": [],
      "toc_visible": true,
      "mount_file_id": "1Nl6ffbxvCbckj87UTgvQufI8OkETANMB",
      "authorship_tag": "ABX9TyOedZXKD/WnaBKlt07Senua",
      "include_colab_link": true
    },
    "kernelspec": {
      "name": "python3",
      "display_name": "Python 3"
    },
    "language_info": {
      "name": "python"
    }
  },
  "cells": [
    {
      "cell_type": "markdown",
      "metadata": {
        "id": "view-in-github",
        "colab_type": "text"
      },
      "source": [
        "<a href=\"https://colab.research.google.com/github/tsega19/kf_fin_news_sentiment_analysis/blob/main/Untitled26.ipynb\" target=\"_parent\"><img src=\"https://colab.research.google.com/assets/colab-badge.svg\" alt=\"Open In Colab\"/></a>"
      ]
    },
    {
      "cell_type": "markdown",
      "source": [
        "**Quantitative analysis using pynance and TaLib**"
      ],
      "metadata": {
        "id": "GsmIhe72vVIp"
      }
    },
    {
      "cell_type": "code",
      "execution_count": null,
      "metadata": {
        "id": "lkWrIjWmvO8v"
      },
      "outputs": [],
      "source": [
        "# import library\n",
        "import pandas as pd\n",
        "import numpy as np\n",
        "import matplotlib.pyplot as plt\n",
        "import seaborn as sns\n",
        "import yfinance as yf\n",
        "import pandas_ta as ta\n",
        "import pynance as pn"
      ]
    },
    {
      "cell_type": "code",
      "source": [
        "# Load your stock price data into a pandas DataFrame. Ensure your data includes columns like Open, High, Low, Close, and Volume.\n",
        "data = pd.read_csv('AAPL_historical_data.csv')\n",
        "print(data)"
      ],
      "metadata": {
        "id": "qoW1zYPevihU"
      },
      "execution_count": null,
      "outputs": []
    },
    {
      "cell_type": "code",
      "source": [
        "# Apply Technical Analysis Indicators with pandas_ta\n",
        "# Using pandas_ta to calculate technical indicators like averages, RSI, MACD\n",
        "\n",
        "# Using Average indicator\n",
        "adx_data = ta.adx(data['High'], data['Low'], data['Close'])\n",
        "data = data.join(adx_data)\n",
        "\n",
        "# Add Stochastic Oscillator\n",
        "data[['stoch_k', 'stoch_d']] = ta.stoch(data['High'], data['Low'], data['Close'])\n",
        "\n",
        "# Add MACD\n",
        "data[['macd', 'macd_signal', 'macd_hist']] = ta.macd(data['Close'])\n",
        "\n",
        "# Add RSI\n",
        "data['rsi'] = ta.rsi(data['Close'])\n",
        "\n",
        "# Print the DataFrame to see the indicators\n",
        "print(data)"
      ],
      "metadata": {
        "id": "Urpk-UGJ1JY-"
      },
      "execution_count": null,
      "outputs": []
    },
    {
      "cell_type": "code",
      "source": [
        "# Use PyNance for Financial Metrics\n",
        "# Calculate daily returns\n",
        "# If 'Adj Close' column is not present, use 'Close' or rename it:\n",
        "if 'Adj Close' not in data.columns:\n",
        "    if 'Close' in data.columns:\n",
        "        # Rename 'Close' to 'Adj Close' for compatibility with pynance\n",
        "        data = data.rename(columns={'Close': 'Adj Close'})\n",
        "    else:\n",
        "        raise KeyError(\"Neither 'Adj Close' nor 'Close' column found in the DataFrame.\")\n",
        "\n",
        "data['daily_return'] = pn.tech.ret(data[['Adj Close']])  # Pass the DataFrame with 'Adj Close' column\n",
        "\n",
        "\n",
        "# Calculate cumulative returns\n",
        "data['cumulative_return'] = (1 + data['daily_return']).cumprod()\n",
        "\n",
        "# Calculate volatility (rolling standard deviation of returns)\n",
        "data['volatility'] = data['daily_return'].rolling(window=14).std()\n",
        "\n",
        "# Example: Calculate Sharpe Ratio (annualized)\n",
        "risk_free_rate = 0.02  # Assuming a 2% risk-free rate\n",
        "annualized_return = data['daily_return'].mean() * 252\n",
        "annualized_volatility = data['daily_return'].std() * (252 ** 0.5)\n",
        "sharpe_ratio = (annualized_return - risk_free_rate) / annualized_volatility\n",
        "\n",
        "print(\"\\nSharpe Ratio (Annualized):\", sharpe_ratio)\n",
        "\n",
        "print(\"\\nData with Financial Metrics:\")\n",
        "print(data.head())"
      ],
      "metadata": {
        "id": "dQUbvWqw1S3m"
      },
      "execution_count": null,
      "outputs": []
    },
    {
      "cell_type": "code",
      "source": [
        "# Visualize the Data\n",
        "sns.set_theme(style='darkgrid')\n",
        "\n",
        "# Plot 1: Stock Price and Moving Averages\n",
        "plt.figure(figsize=(12, 6))\n",
        "plt.plot(data['Close'], label='Close Price', color='blue')\n",
        "plt.plot(data['Close'].rolling(window=20).mean(), label='20-Day SMA', color='orange')\n",
        "plt.plot(data['Close'].rolling(window=50).mean(), label='50-Day SMA', color='green')\n",
        "plt.title(\"Stock Price with Moving Averages\")\n",
        "plt.xlabel(\"Days\")\n",
        "plt.ylabel(\"Price\")\n",
        "plt.legend()\n",
        "plt.show()"
      ],
      "metadata": {
        "id": "2I2rnr8r6dGz"
      },
      "execution_count": null,
      "outputs": []
    },
    {
      "cell_type": "code",
      "source": [],
      "metadata": {
        "id": "3QOihquK7cNe"
      },
      "execution_count": null,
      "outputs": []
    },
    {
      "cell_type": "code",
      "source": [
        "# Plot 2: MACD\n",
        "# Plot MACD\n",
        "plt.figure(figsize=(12, 6))\n",
        "plt.plot(data['macd'], label='MACD', color='blue')\n",
        "plt.plot(data['macd_signal'], label='Signal Line', color='red')\n",
        "plt.bar(data.index, data['macd_hist'], label='MACD Histogram', color='gray', alpha=0.5)\n",
        "plt.title(\"MACD Indicator\")\n",
        "plt.xlabel(\"Days\")\n",
        "plt.ylabel(\"MACD Value\")\n",
        "plt.legend()\n",
        "plt.show()"
      ],
      "metadata": {
        "id": "1-BT3A4v7GpO"
      },
      "execution_count": null,
      "outputs": []
    },
    {
      "cell_type": "code",
      "source": [
        "# Plot 3: RSI\n",
        "plt.figure(figsize=(12, 6))\n",
        "plt.plot(data['rsi'], label='RSI', color='purple')\n",
        "plt.axhline(70, color='red', linestyle='--', label='Overbought (70)')\n",
        "plt.axhline(30, color='green', linestyle='--', label='Oversold (30)')\n",
        "plt.title(\"Relative Strength Index (RSI)\")\n",
        "plt.xlabel(\"Days\")\n",
        "plt.ylabel(\"RSI Value\")\n",
        "plt.legend()\n",
        "plt.show()"
      ],
      "metadata": {
        "id": "DMIlybNV8Y89"
      },
      "execution_count": null,
      "outputs": []
    },
    {
      "cell_type": "code",
      "source": [
        "# Plot 4: Daily Returns and Cumulative Returns\n",
        "plt.figure(figsize=(12, 6))\n",
        "plt.plot(data['cumulative_return'], label='Cumulative Returns', color='blue')\n",
        "plt.bar(data.index, data['daily_return'], label='Daily Returns', color='orange', alpha=0.5)\n",
        "plt.title(\"Daily and Cumulative Returns\")\n",
        "plt.xlabel(\"Days\")\n",
        "plt.ylabel(\"Returns\")\n",
        "plt.legend()\n",
        "plt.show()"
      ],
      "metadata": {
        "id": "WewN2ee38naz"
      },
      "execution_count": null,
      "outputs": []
    },
    {
      "cell_type": "code",
      "source": [
        "# Plot 5: Volatility\n",
        "plt.figure(figsize=(12, 6))\n",
        "plt.plot(data['volatility'], label='Volatility (14-day Rolling)', color='red')\n",
        "plt.title(\"Stock Volatility\")\n",
        "plt.xlabel(\"Days\")\n",
        "plt.ylabel(\"Volatility\")\n",
        "plt.legend()\n",
        "plt.show()"
      ],
      "metadata": {
        "id": "GcFF7VB88wfE"
      },
      "execution_count": null,
      "outputs": []
    }
  ]
}