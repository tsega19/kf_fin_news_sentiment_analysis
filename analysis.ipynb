{
  "nbformat": 4,
  "nbformat_minor": 0,
  "metadata": {
    "colab": {
      "private_outputs": true,
      "provenance": [],
      "authorship_tag": "ABX9TyMNySgdypOuhLLZSgiIosTy",
      "include_colab_link": true
    },
    "kernelspec": {
      "name": "python3",
      "display_name": "Python 3"
    },
    "language_info": {
      "name": "python"
    }
  },
  "cells": [
    {
      "cell_type": "markdown",
      "metadata": {
        "id": "view-in-github",
        "colab_type": "text"
      },
      "source": [
        "<a href=\"https://colab.research.google.com/github/tsega19/kf_fin_news_sentiment_analysis/blob/main/analysis.ipynb\" target=\"_parent\"><img src=\"https://colab.research.google.com/assets/colab-badge.svg\" alt=\"Open In Colab\"/></a>"
      ]
    },
    {
      "cell_type": "code",
      "execution_count": null,
      "metadata": {
        "id": "Pjc6DBOjH5Gr"
      },
      "outputs": [],
      "source": [
        "# Import necessary libraries\n",
        "import pandas as pd\n",
        "from transformers import pipeline\n",
        "import matplotlib.pyplot as plt\n",
        "import seaborn as sns"
      ]
    },
    {
      "cell_type": "code",
      "source": [
        "# Load the dataset\n",
        "data_path = 'raw_analyst_ratings.csv'\n",
        "data = pd.read_csv(data_path)"
      ],
      "metadata": {
        "id": "7w18NKbh-L-k"
      },
      "execution_count": null,
      "outputs": []
    },
    {
      "cell_type": "code",
      "source": [
        "# Convert 'date' column to datetime format\n",
        "data['date'] = pd.to_datetime(data['date'], format='%Y-%m-%d %H:%M:%S', errors='coerce')\n",
        "# Specifying format and error handling\n",
        "data['year'] = data['date'].dt.year\n",
        "data['month'] = data['date'].dt.month\n",
        "data['day'] = data['date'].dt.day\n",
        "data['hour'] = data['date'].dt.hour"
      ],
      "metadata": {
        "id": "e0_PtmYd-Q7l"
      },
      "execution_count": null,
      "outputs": []
    },
    {
      "cell_type": "code",
      "source": [
        "# Exploratory Data Analysis\n",
        "## Descriptive Statistics\n",
        "headline_lengths = data['headline'].str.len()\n",
        "descriptive_stats = headline_lengths.describe()\n",
        "print(\"Headline Length Statistics:\")\n",
        "print(descriptive_stats)"
      ],
      "metadata": {
        "id": "ARl97DQE-aSl"
      },
      "execution_count": null,
      "outputs": []
    },
    {
      "cell_type": "code",
      "source": [
        "# Count articles per publisher\n",
        "publisher_counts = data['publisher'].value_counts()\n",
        "print(\"\\nArticles per Publisher:\")\n",
        "print(publisher_counts.head())"
      ],
      "metadata": {
        "id": "mwiICIIN-gGt"
      },
      "execution_count": null,
      "outputs": []
    },
    {
      "cell_type": "code",
      "source": [
        "# Analyze publication dates\n",
        "publication_trends = data['date'].dt.date.value_counts().sort_index()\n",
        "plt.figure(figsize=(10, 6))\n",
        "plt.plot(publication_trends.index, publication_trends.values, label=\"Articles Published\")\n",
        "plt.title(\"Publication Trends Over Time\")\n",
        "plt.xlabel(\"Date\")\n",
        "plt.ylabel(\"Number of Articles\")\n",
        "plt.legend()\n",
        "plt.show()"
      ],
      "metadata": {
        "id": "Y_vTc4DevRPd"
      },
      "execution_count": null,
      "outputs": []
    },
    {
      "cell_type": "code",
      "source": [
        "\n",
        "# Save results to a CSV\n",
        "output_path = 'processed_data.csv'\n",
        "data.to_csv(output_path, index=False)\n",
        "print(f\"Processed data saved to {output_path}\")"
      ],
      "metadata": {
        "id": "Vgk8zcpz-nbt"
      },
      "execution_count": null,
      "outputs": []
    }
  ]
}