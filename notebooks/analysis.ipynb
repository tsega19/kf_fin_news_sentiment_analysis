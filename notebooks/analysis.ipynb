{
 "cells": [
  {
   "cell_type": "code",
   "execution_count": 1,
   "metadata": {
    "id": "Pjc6DBOjH5Gr"
   },
   "outputs": [
    {
     "name": "stdout",
     "output_type": "stream",
     "text": [
      "False\n"
     ]
    }
   ],
   "source": [
    "# Import necessary libraries\n",
    "from dataset import *"
   ]
  },
  {
   "cell_type": "code",
   "execution_count": 2,
   "metadata": {
    "id": "7w18NKbh-L-k"
   },
   "outputs": [],
   "source": [
    "# Load the dataset\n",
    "df = load_and_prepare_data(\"../data/raw_analyst_ratings.csv\")"
   ]
  },
  {
   "cell_type": "code",
   "execution_count": 3,
   "metadata": {
    "id": "e0_PtmYd-Q7l"
   },
   "outputs": [
    {
     "data": {
      "text/html": [
       "<div>\n",
       "<style scoped>\n",
       "    .dataframe tbody tr th:only-of-type {\n",
       "        vertical-align: middle;\n",
       "    }\n",
       "\n",
       "    .dataframe tbody tr th {\n",
       "        vertical-align: top;\n",
       "    }\n",
       "\n",
       "    .dataframe thead th {\n",
       "        text-align: right;\n",
       "    }\n",
       "</style>\n",
       "<table border=\"1\" class=\"dataframe\">\n",
       "  <thead>\n",
       "    <tr style=\"text-align: right;\">\n",
       "      <th></th>\n",
       "      <th>Unnamed: 0</th>\n",
       "      <th>headline</th>\n",
       "      <th>url</th>\n",
       "      <th>publisher</th>\n",
       "      <th>date</th>\n",
       "      <th>stock</th>\n",
       "      <th>year</th>\n",
       "      <th>month</th>\n",
       "      <th>day</th>\n",
       "    </tr>\n",
       "  </thead>\n",
       "  <tbody>\n",
       "    <tr>\n",
       "      <th>0</th>\n",
       "      <td>0</td>\n",
       "      <td>Stocks That Hit 52-Week Highs On Friday</td>\n",
       "      <td>https://www.benzinga.com/news/20/06/16190091/s...</td>\n",
       "      <td>Benzinga Insights</td>\n",
       "      <td>NaT</td>\n",
       "      <td>A</td>\n",
       "      <td>NaN</td>\n",
       "      <td>NaN</td>\n",
       "      <td>NaN</td>\n",
       "    </tr>\n",
       "    <tr>\n",
       "      <th>1</th>\n",
       "      <td>1</td>\n",
       "      <td>Stocks That Hit 52-Week Highs On Wednesday</td>\n",
       "      <td>https://www.benzinga.com/news/20/06/16170189/s...</td>\n",
       "      <td>Benzinga Insights</td>\n",
       "      <td>NaT</td>\n",
       "      <td>A</td>\n",
       "      <td>NaN</td>\n",
       "      <td>NaN</td>\n",
       "      <td>NaN</td>\n",
       "    </tr>\n",
       "    <tr>\n",
       "      <th>2</th>\n",
       "      <td>2</td>\n",
       "      <td>71 Biggest Movers From Friday</td>\n",
       "      <td>https://www.benzinga.com/news/20/05/16103463/7...</td>\n",
       "      <td>Lisa Levin</td>\n",
       "      <td>NaT</td>\n",
       "      <td>A</td>\n",
       "      <td>NaN</td>\n",
       "      <td>NaN</td>\n",
       "      <td>NaN</td>\n",
       "    </tr>\n",
       "    <tr>\n",
       "      <th>3</th>\n",
       "      <td>3</td>\n",
       "      <td>46 Stocks Moving In Friday's Mid-Day Session</td>\n",
       "      <td>https://www.benzinga.com/news/20/05/16095921/4...</td>\n",
       "      <td>Lisa Levin</td>\n",
       "      <td>NaT</td>\n",
       "      <td>A</td>\n",
       "      <td>NaN</td>\n",
       "      <td>NaN</td>\n",
       "      <td>NaN</td>\n",
       "    </tr>\n",
       "    <tr>\n",
       "      <th>4</th>\n",
       "      <td>4</td>\n",
       "      <td>B of A Securities Maintains Neutral on Agilent...</td>\n",
       "      <td>https://www.benzinga.com/news/20/05/16095304/b...</td>\n",
       "      <td>Vick Meyer</td>\n",
       "      <td>NaT</td>\n",
       "      <td>A</td>\n",
       "      <td>NaN</td>\n",
       "      <td>NaN</td>\n",
       "      <td>NaN</td>\n",
       "    </tr>\n",
       "    <tr>\n",
       "      <th>...</th>\n",
       "      <td>...</td>\n",
       "      <td>...</td>\n",
       "      <td>...</td>\n",
       "      <td>...</td>\n",
       "      <td>...</td>\n",
       "      <td>...</td>\n",
       "      <td>...</td>\n",
       "      <td>...</td>\n",
       "      <td>...</td>\n",
       "    </tr>\n",
       "    <tr>\n",
       "      <th>1407323</th>\n",
       "      <td>1413844</td>\n",
       "      <td>Top Narrow Based Indexes For August 29</td>\n",
       "      <td>https://www.benzinga.com/news/11/08/1888782/to...</td>\n",
       "      <td>Monica Gerson</td>\n",
       "      <td>2011-08-29</td>\n",
       "      <td>ZX</td>\n",
       "      <td>2011.0</td>\n",
       "      <td>8.0</td>\n",
       "      <td>29.0</td>\n",
       "    </tr>\n",
       "    <tr>\n",
       "      <th>1407324</th>\n",
       "      <td>1413845</td>\n",
       "      <td>Recap: Wednesday's Top Percentage Gainers and ...</td>\n",
       "      <td>https://www.benzinga.com/news/earnings/11/06/1...</td>\n",
       "      <td>Benjamin Lee</td>\n",
       "      <td>2011-06-22</td>\n",
       "      <td>ZX</td>\n",
       "      <td>2011.0</td>\n",
       "      <td>6.0</td>\n",
       "      <td>22.0</td>\n",
       "    </tr>\n",
       "    <tr>\n",
       "      <th>1407325</th>\n",
       "      <td>1413846</td>\n",
       "      <td>UPDATE: Oppenheimer Color on China Zenix Auto ...</td>\n",
       "      <td>https://www.benzinga.com/analyst-ratings/analy...</td>\n",
       "      <td>BenzingaStaffL</td>\n",
       "      <td>2011-06-21</td>\n",
       "      <td>ZX</td>\n",
       "      <td>2011.0</td>\n",
       "      <td>6.0</td>\n",
       "      <td>21.0</td>\n",
       "    </tr>\n",
       "    <tr>\n",
       "      <th>1407326</th>\n",
       "      <td>1413847</td>\n",
       "      <td>Oppenheimer Initiates China Zenix At Outperfor...</td>\n",
       "      <td>https://www.benzinga.com/analyst-ratings/price...</td>\n",
       "      <td>Joe Young</td>\n",
       "      <td>2011-06-21</td>\n",
       "      <td>ZX</td>\n",
       "      <td>2011.0</td>\n",
       "      <td>6.0</td>\n",
       "      <td>21.0</td>\n",
       "    </tr>\n",
       "    <tr>\n",
       "      <th>1407327</th>\n",
       "      <td>1413848</td>\n",
       "      <td>China Zenix Auto International Opens For Tradi...</td>\n",
       "      <td>https://www.benzinga.com/news/ipos/11/05/10789...</td>\n",
       "      <td>Allie Wickman</td>\n",
       "      <td>2011-05-12</td>\n",
       "      <td>ZX</td>\n",
       "      <td>2011.0</td>\n",
       "      <td>5.0</td>\n",
       "      <td>12.0</td>\n",
       "    </tr>\n",
       "  </tbody>\n",
       "</table>\n",
       "<p>1407328 rows × 9 columns</p>\n",
       "</div>"
      ],
      "text/plain": [
       "         Unnamed: 0                                           headline  \\\n",
       "0                 0            Stocks That Hit 52-Week Highs On Friday   \n",
       "1                 1         Stocks That Hit 52-Week Highs On Wednesday   \n",
       "2                 2                      71 Biggest Movers From Friday   \n",
       "3                 3       46 Stocks Moving In Friday's Mid-Day Session   \n",
       "4                 4  B of A Securities Maintains Neutral on Agilent...   \n",
       "...             ...                                                ...   \n",
       "1407323     1413844             Top Narrow Based Indexes For August 29   \n",
       "1407324     1413845  Recap: Wednesday's Top Percentage Gainers and ...   \n",
       "1407325     1413846  UPDATE: Oppenheimer Color on China Zenix Auto ...   \n",
       "1407326     1413847  Oppenheimer Initiates China Zenix At Outperfor...   \n",
       "1407327     1413848  China Zenix Auto International Opens For Tradi...   \n",
       "\n",
       "                                                       url          publisher  \\\n",
       "0        https://www.benzinga.com/news/20/06/16190091/s...  Benzinga Insights   \n",
       "1        https://www.benzinga.com/news/20/06/16170189/s...  Benzinga Insights   \n",
       "2        https://www.benzinga.com/news/20/05/16103463/7...         Lisa Levin   \n",
       "3        https://www.benzinga.com/news/20/05/16095921/4...         Lisa Levin   \n",
       "4        https://www.benzinga.com/news/20/05/16095304/b...         Vick Meyer   \n",
       "...                                                    ...                ...   \n",
       "1407323  https://www.benzinga.com/news/11/08/1888782/to...      Monica Gerson   \n",
       "1407324  https://www.benzinga.com/news/earnings/11/06/1...       Benjamin Lee   \n",
       "1407325  https://www.benzinga.com/analyst-ratings/analy...     BenzingaStaffL   \n",
       "1407326  https://www.benzinga.com/analyst-ratings/price...          Joe Young   \n",
       "1407327  https://www.benzinga.com/news/ipos/11/05/10789...      Allie Wickman   \n",
       "\n",
       "              date stock    year  month   day  \n",
       "0              NaT     A     NaN    NaN   NaN  \n",
       "1              NaT     A     NaN    NaN   NaN  \n",
       "2              NaT     A     NaN    NaN   NaN  \n",
       "3              NaT     A     NaN    NaN   NaN  \n",
       "4              NaT     A     NaN    NaN   NaN  \n",
       "...            ...   ...     ...    ...   ...  \n",
       "1407323 2011-08-29    ZX  2011.0    8.0  29.0  \n",
       "1407324 2011-06-22    ZX  2011.0    6.0  22.0  \n",
       "1407325 2011-06-21    ZX  2011.0    6.0  21.0  \n",
       "1407326 2011-06-21    ZX  2011.0    6.0  21.0  \n",
       "1407327 2011-05-12    ZX  2011.0    5.0  12.0  \n",
       "\n",
       "[1407328 rows x 9 columns]"
      ]
     },
     "execution_count": 3,
     "metadata": {},
     "output_type": "execute_result"
    }
   ],
   "source": [
    "# Convert 'date' column to datetime format\n",
    "convert_date(df)"
   ]
  },
  {
   "cell_type": "code",
   "execution_count": 4,
   "metadata": {
    "colab": {
     "base_uri": "https://localhost:8080/"
    },
    "id": "ARl97DQE-aSl",
    "outputId": "496d7fa6-34f5-4d15-9da6-e7832ac8988d"
   },
   "outputs": [
    {
     "data": {
      "text/plain": [
       "count    1.407328e+06\n",
       "mean     7.312051e+01\n",
       "std      4.073531e+01\n",
       "min      3.000000e+00\n",
       "25%      4.700000e+01\n",
       "50%      6.400000e+01\n",
       "75%      8.700000e+01\n",
       "max      5.120000e+02\n",
       "Name: headline, dtype: float64"
      ]
     },
     "execution_count": 4,
     "metadata": {},
     "output_type": "execute_result"
    }
   ],
   "source": [
    "# Exploratory Data Analysis\n",
    "## Descriptive Statistics\n",
    "calculate_headline_statistics(df)"
   ]
  },
  {
   "cell_type": "code",
   "execution_count": 5,
   "metadata": {
    "colab": {
     "base_uri": "https://localhost:8080/"
    },
    "id": "mwiICIIN-gGt",
    "outputId": "b34f956e-7318-4d08-8b0a-fdb4f5985067"
   },
   "outputs": [
    {
     "data": {
      "text/plain": [
       "publisher\n",
       "Paul Quintaro                      228373\n",
       "Lisa Levin                         186979\n",
       "Benzinga Newsdesk                  150484\n",
       "Charles Gross                       96732\n",
       "Monica Gerson                       82380\n",
       "                                    ...  \n",
       "Shazir Mucklai - Imperium Group         1\n",
       "Laura Jennings                          1\n",
       "Eric Martin                             1\n",
       "Jose Rodrigo                            1\n",
       "Jeremie Capron                          1\n",
       "Name: count, Length: 1034, dtype: int64"
      ]
     },
     "execution_count": 5,
     "metadata": {},
     "output_type": "execute_result"
    }
   ],
   "source": [
    "# Count articles per publisher\n",
    "count_articles_per_publisher(df)"
   ]
  },
  {
   "cell_type": "code",
   "execution_count": 6,
   "metadata": {
    "colab": {
     "base_uri": "https://localhost:8080/",
     "height": 564
    },
    "id": "Y_vTc4DevRPd",
    "outputId": "ecd003d4-e98e-4bf8-b3c7-4206382ad4bd"
   },
   "outputs": [
    {
     "data": {
      "image/png": "[encoded data removed]",
      "text/plain": [
       "<Figure size 1000x600 with 1 Axes>"
      ]
     },
     "metadata": {},
     "output_type": "display_data"
    }
   ],
   "source": [
    "# Analyze publication dates\n",
    "plot_publication_trends(df)"
   ]
  },
  {
   "cell_type": "code",
   "execution_count": 8,
   "metadata": {
    "colab": {
     "base_uri": "https://localhost:8080/"
    },
    "id": "Vgk8zcpz-nbt",
    "outputId": "a5f38ed0-28e3-48e1-b2ca-dcc8f42e5b50"
   },
   "outputs": [],
   "source": [
    "# Save results to a CSV\n",
    "save_processed_data(df, output_path=\"data=\")"
   ]
  },
  {
   "cell_type": "code",
   "execution_count": 10,
   "metadata": {
    "colab": {
     "base_uri": "https://localhost:8080/"
    },
    "id": "StQNaWA9Bauq",
    "outputId": "e2d55c90-694b-4c0b-c289-276ca02ce5e8"
   },
   "outputs": [
    {
     "name": "stdout",
     "output_type": "stream",
     "text": [
      "<class 'pandas.core.frame.DataFrame'>\n",
      "RangeIndex: 1407328 entries, 0 to 1407327\n",
      "Data columns (total 9 columns):\n",
      " #   Column      Non-Null Count    Dtype         \n",
      "---  ------      --------------    -----         \n",
      " 0   Unnamed: 0  1407328 non-null  int64         \n",
      " 1   headline    1407328 non-null  object        \n",
      " 2   url         1407328 non-null  object        \n",
      " 3   publisher   1407328 non-null  object        \n",
      " 4   date        1351341 non-null  datetime64[ns]\n",
      " 5   stock       1407328 non-null  object        \n",
      " 6   year        1351341 non-null  float64       \n",
      " 7   month       1351341 non-null  float64       \n",
      " 8   day         1351341 non-null  float64       \n",
      "dtypes: datetime64[ns](1), float64(3), int64(1), object(4)\n",
      "memory usage: 96.6+ MB\n"
     ]
    },
    {
     "data": {
      "text/plain": [
       "(   Unnamed: 0                                           headline  \\\n",
       " 0           0            Stocks That Hit 52-Week Highs On Friday   \n",
       " 1           1         Stocks That Hit 52-Week Highs On Wednesday   \n",
       " 2           2                      71 Biggest Movers From Friday   \n",
       " 3           3       46 Stocks Moving In Friday's Mid-Day Session   \n",
       " 4           4  B of A Securities Maintains Neutral on Agilent...   \n",
       " \n",
       "                                                  url          publisher date  \\\n",
       " 0  https://www.benzinga.com/news/20/06/16190091/s...  Benzinga Insights  NaT   \n",
       " 1  https://www.benzinga.com/news/20/06/16170189/s...  Benzinga Insights  NaT   \n",
       " 2  https://www.benzinga.com/news/20/05/16103463/7...         Lisa Levin  NaT   \n",
       " 3  https://www.benzinga.com/news/20/05/16095921/4...         Lisa Levin  NaT   \n",
       " 4  https://www.benzinga.com/news/20/05/16095304/b...         Vick Meyer  NaT   \n",
       " \n",
       "   stock  year  month  day  \n",
       " 0     A   NaN    NaN  NaN  \n",
       " 1     A   NaN    NaN  NaN  \n",
       " 2     A   NaN    NaN  NaN  \n",
       " 3     A   NaN    NaN  NaN  \n",
       " 4     A   NaN    NaN  NaN  ,\n",
       " None,\n",
       "          Unnamed: 0                           date          year  \\\n",
       " count  1.407328e+06                        1351341  1.351341e+06   \n",
       " mean   7.072454e+05  2015-07-06 06:39:44.879020288  2.015021e+03   \n",
       " min    0.000000e+00            2009-02-14 00:00:00  2.009000e+03   \n",
       " 25%    3.538128e+05            2012-12-04 00:00:00  2.012000e+03   \n",
       " 50%    7.072395e+05            2015-07-21 00:00:00  2.015000e+03   \n",
       " 75%    1.060710e+06            2018-03-09 00:00:00  2.018000e+03   \n",
       " max    1.413848e+06            2020-06-03 00:00:00  2.020000e+03   \n",
       " std    4.081009e+05                            NaN  3.024726e+00   \n",
       " \n",
       "               month           day  \n",
       " count  1.351341e+06  1.351341e+06  \n",
       " mean   6.413978e+00  1.555752e+01  \n",
       " min    1.000000e+00  1.000000e+00  \n",
       " 25%    3.000000e+00  8.000000e+00  \n",
       " 50%    6.000000e+00  1.500000e+01  \n",
       " 75%    1.000000e+01  2.300000e+01  \n",
       " max    1.200000e+01  3.100000e+01  \n",
       " std    3.469710e+00  8.809733e+00  ,\n",
       " (1407328, 9))"
      ]
     },
     "execution_count": 10,
     "metadata": {},
     "output_type": "execute_result"
    }
   ],
   "source": [
    "data_summary(df)"
   ]
  }
 ],
 "metadata": {
  "colab": {
   "provenance": []
  },
  "kernelspec": {
   "display_name": "Python 3",
   "name": "python3"
  },
  "language_info": {
   "codemirror_mode": {
    "name": "ipython",
    "version": 3
   },
   "file_extension": ".py",
   "mimetype": "text/x-python",
   "name": "python",
   "nbconvert_exporter": "python",
   "pygments_lexer": "ipython3",
   "version": "3.12.3"
  }
 },
 "nbformat": 4,
 "nbformat_minor": 0
}
